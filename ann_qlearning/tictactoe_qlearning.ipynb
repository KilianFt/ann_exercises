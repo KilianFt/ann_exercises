{
 "cells": [
  {
   "cell_type": "code",
   "execution_count": 30,
   "metadata": {},
   "outputs": [],
   "source": [
    "import numpy as np\n",
    "import random"
   ]
  },
  {
   "cell_type": "code",
   "execution_count": 388,
   "metadata": {},
   "outputs": [],
   "source": [
    "KEY_TIE = 'tie'\n",
    "KEY_ONGOING = 'ongoing'\n",
    "KEY_WON_P1 = 'won_p1'\n",
    "KEY_WON_P2 = 'won_p2'"
   ]
  },
  {
   "cell_type": "code",
   "execution_count": 364,
   "metadata": {},
   "outputs": [],
   "source": [
    "def update_state(state, q_table, epsilon, player):\n",
    "    r = random.random()\n",
    "    possible_actions = np.array([(idx, value) for (idx, value) in enumerate(q_table.flatten()) if not np.isnan(value) ])\n",
    "    if len(possible_actions) < 1:\n",
    "        print('ERROR: all fields already filled, game ended')\n",
    "        return\n",
    "\n",
    "    if r < (1-epsilon):\n",
    "        # find max of q table\n",
    "        action_max = np.nanmax(possible_actions[:,1])\n",
    "        max_action_idxs = [p_action[0] for p_action in possible_actions if p_action[1] == action_max]\n",
    "        if len(max_action_idxs) > 1:\n",
    "            # take random when max at several positions\n",
    "            action_idx = random.choice(max_action_idxs)\n",
    "        else:\n",
    "            action_idx = max_action_idxs[0]\n",
    "\n",
    "    else:\n",
    "        action_idx = random.choice(possible_actions[:,0])\n",
    "\n",
    "    i = int(action_idx/3)\n",
    "    j = int(action_idx % 3)\n",
    "    state[i, j] = player\n",
    "    q_table[i, j] = np.nan\n",
    "\n",
    "    return state"
   ]
  },
  {
   "cell_type": "code",
   "execution_count": 434,
   "metadata": {},
   "outputs": [],
   "source": [
    "def game_status(state):\n",
    "    # check if tie\n",
    "    if np.count_nonzero(state==0) == 0:\n",
    "        return KEY_TIE\n",
    "    # check if someone has won\n",
    "    possible_winning_comb = np.zeros((8, 3))\n",
    "    possible_winning_comb[:3,:] = state\n",
    "    possible_winning_comb[3:6,:] = state.T\n",
    "    possible_winning_comb[6,:] = state.diagonal()\n",
    "    possible_winning_comb[7,:] = np.fliplr(state).diagonal()\n",
    "    for row in possible_winning_comb:\n",
    "        if abs(row).all() == 1:\n",
    "            if row[0] == 1: return KEY_WON_P1\n",
    "            if row[1] == -1: return KEY_WON_P2\n",
    "\n",
    "    return KEY_ONGOING"
   ]
  },
  {
   "cell_type": "code",
   "execution_count": null,
   "metadata": {},
   "outputs": [],
   "source": [
    "def update_q_table(q_table):\n",
    "    "
   ]
  },
  {
   "cell_type": "code",
   "execution_count": 437,
   "metadata": {},
   "outputs": [
    {
     "data": {
      "text/plain": [
       "'won_p2'"
      ]
     },
     "execution_count": 437,
     "metadata": {},
     "output_type": "execute_result"
    }
   ],
   "source": [
    "game_status(state)"
   ]
  },
  {
   "cell_type": "code",
   "execution_count": 384,
   "metadata": {},
   "outputs": [],
   "source": [
    "state = np.zeros((3,3))\n",
    "q_table = np.zeros((3,3))"
   ]
  },
  {
   "cell_type": "code",
   "execution_count": 436,
   "metadata": {},
   "outputs": [
    {
     "data": {
      "text/plain": [
       "array([[-1.,  0., -1.],\n",
       "       [ 0., -1.,  0.],\n",
       "       [-1., -1.,  0.]])"
      ]
     },
     "execution_count": 436,
     "metadata": {},
     "output_type": "execute_result"
    }
   ],
   "source": [
    "update_state(state, q_table, 1.0, -1)"
   ]
  }
 ],
 "metadata": {
  "interpreter": {
   "hash": "e7370f93d1d0cde622a1f8e1c04877d8463912d04d973331ad4851f04de6915a"
  },
  "kernelspec": {
   "display_name": "Python 3.8.10 64-bit",
   "name": "python3"
  },
  "language_info": {
   "codemirror_mode": {
    "name": "ipython",
    "version": 3
   },
   "file_extension": ".py",
   "mimetype": "text/x-python",
   "name": "python",
   "nbconvert_exporter": "python",
   "pygments_lexer": "ipython3",
   "version": "3.8.10"
  },
  "orig_nbformat": 4
 },
 "nbformat": 4,
 "nbformat_minor": 2
}
