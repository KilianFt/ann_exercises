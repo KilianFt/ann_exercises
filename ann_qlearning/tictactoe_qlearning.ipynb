{
 "cells": [
  {
   "cell_type": "code",
   "execution_count": 2,
   "metadata": {},
   "outputs": [],
   "source": [
    "import numpy as np\n",
    "import copy"
   ]
  },
  {
   "cell_type": "code",
   "execution_count": 22,
   "metadata": {},
   "outputs": [],
   "source": [
    "KEY_TIE = 'tie'\n",
    "KEY_ONGOING = 'ongoing'\n",
    "KEY_WON_P1 = 'won_p1'\n",
    "KEY_WON_P2 = 'won_p2'\n",
    "KEY_P1 = 1\n",
    "KEY_P2 = 2\n",
    "\n",
    "n_games = 50000\n",
    "\n",
    "alpha = 0.1\n",
    "gamma = 1\n",
    "init_epsilon = 1.0\n",
    "\n",
    "start_decay = 1000\n",
    "e_decay = 0.99\n",
    "\n",
    "win_reward = 1\n",
    "lose_reward = -1\n",
    "tie_reward = 0"
   ]
  },
  {
   "cell_type": "code",
   "execution_count": 4,
   "metadata": {},
   "outputs": [],
   "source": [
    "def get_board_string(board):\n",
    "    return str(copy.copy(board).reshape(9))"
   ]
  },
  {
   "cell_type": "code",
   "execution_count": 5,
   "metadata": {},
   "outputs": [],
   "source": [
    "def get_q_values(_q_table, state, set_nan=True):\n",
    "\n",
    "    next_board_string = get_board_string(state)\n",
    "\n",
    "    if _q_table.get(next_board_string) is None:\n",
    "        q_values = np.zeros([3,3]) \n",
    "\n",
    "        if set_nan:\n",
    "            it = np.nditer(state, flags=['multi_index'])\n",
    "            for x in it:\n",
    "                if x != 0:\n",
    "                    q_values[it.multi_index] = np.nan\n",
    "    else:\n",
    "        q_values = _q_table.get(next_board_string)\n",
    "\n",
    "    return q_values"
   ]
  },
  {
   "cell_type": "code",
   "execution_count": 6,
   "metadata": {},
   "outputs": [
    {
     "data": {
      "text/plain": [
       "array([[nan, nan, nan],\n",
       "       [nan, nan, nan],\n",
       "       [ 0., nan, nan]])"
      ]
     },
     "execution_count": 6,
     "metadata": {},
     "output_type": "execute_result"
    }
   ],
   "source": [
    "test_state_1 = np.array([[1,2,0],[0,0,2],[0,0,1]])\n",
    "test_state_2 = np.array([[1,2,2],[1,1,2],[0,1,1]])\n",
    "\n",
    "s_b = get_board_string(test_state_1)\n",
    "test_q_table = {}\n",
    "test_q_table[s_b] = np.array([[np.nan,np.nan,1],[1,1,np.nan],[0,2,np.nan]])\n",
    "\n",
    "get_q_values(test_q_table, test_state_2)"
   ]
  },
  {
   "cell_type": "code",
   "execution_count": 7,
   "metadata": {},
   "outputs": [],
   "source": [
    "def update_state(state, _q_table, epsilon, player_id):\n",
    "\n",
    "    q_values = get_q_values(_q_table, state)\n",
    "    \n",
    "    r = np.random.rand()\n",
    "    \n",
    "    if np.all(np.isnan(q_values)) and not np.count_nonzero(state==0) == 0:\n",
    "        print('ERROR: q values all zero but still a free spot')\n",
    "\n",
    "    if np.all(np.isnan(q_values)):\n",
    "        return state\n",
    "\n",
    "    if r < (1-epsilon):\n",
    "        # find max of q table\n",
    "        action_idxs = np.where(q_values == np.nanmax(q_values))\n",
    "        ran_a_idx = np.random.randint(len(action_idxs[0]))\n",
    "        action_idx = (action_idxs[0][ran_a_idx], action_idxs[1][ran_a_idx])\n",
    "    else:\n",
    "        non_nan_idxs = np.argwhere(~np.isnan(q_values))\n",
    "        r_idx = np.random.randint(non_nan_idxs.shape[0])\n",
    "        action_idx = non_nan_idxs[r_idx,:]\n",
    "\n",
    "    new_state = copy.copy(state)\n",
    "    new_state[action_idx[0], action_idx[1]] = player_id\n",
    "\n",
    "    return new_state, action_idx"
   ]
  },
  {
   "cell_type": "code",
   "execution_count": 8,
   "metadata": {},
   "outputs": [
    {
     "data": {
      "text/plain": [
       "(array([[1, 2, 0],\n",
       "        [0, 0, 2],\n",
       "        [0, 1, 1]]),\n",
       " (2, 1))"
      ]
     },
     "execution_count": 8,
     "metadata": {},
     "output_type": "execute_result"
    }
   ],
   "source": [
    "update_state(test_state_1, test_q_table, 0, 1)"
   ]
  },
  {
   "cell_type": "code",
   "execution_count": 9,
   "metadata": {},
   "outputs": [],
   "source": [
    "def update_q_table(q_table, action_idx, current_board, next_board, reward):\n",
    "\n",
    "    board_string = get_board_string(current_board)\n",
    "    curr_q_values = get_q_values(q_table, current_board)\n",
    "    \n",
    "    next_q_values = get_q_values(q_table, next_board)\n",
    "\n",
    "    max_q_values = np.nanmax(next_q_values)\n",
    "    if np.isnan(max_q_values):\n",
    "        max_q_values = 0\n",
    "\n",
    "    curr_q_values[action_idx] += alpha*(reward + gamma * max_q_values - curr_q_values[action_idx])\n",
    "\n",
    "    q_table[board_string] = curr_q_values\n",
    "\n",
    "    return q_table"
   ]
  },
  {
   "cell_type": "code",
   "execution_count": 10,
   "metadata": {},
   "outputs": [
    {
     "data": {
      "text/plain": [
       "{'[1 2 2 1 0 0 1 0 0]': [[nan, nan, nan], [nan, 1, 1.0], [nan, 1, 1]],\n",
       " '[1 0 2 1 0 0 0 0 0]': array([[ nan, 0.  ,  nan],\n",
       "        [ nan, 0.38, 0.  ],\n",
       "        [0.  , 0.  , 0.  ]])}"
      ]
     },
     "execution_count": 10,
     "metadata": {},
     "output_type": "execute_result"
    }
   ],
   "source": [
    "test_q_table = {'[1 2 2 1 0 0 1 0 0]': [[np.nan,  np.nan, np.nan],\n",
    "        [np.nan, 1,  1.],\n",
    "        [np.nan, 1, 1]],\n",
    "        '[1 0 2 1 0 0 0 0 0]': np.array([[np.nan, 0. , np.nan],\n",
    "        [np.nan, 0.2, 0. ],\n",
    "        [0. , 0. , 0. ]])}\n",
    "\n",
    "current_board = np.array([[1,0,2],[1, 0, 0],[0,0,0]])\n",
    "next_board = np.array([[1,2,2],[1, 0, 0],[1,0,0]])\n",
    "\n",
    "update_q_table(test_q_table, (1,1), current_board, next_board, 1)\n"
   ]
  },
  {
   "cell_type": "code",
   "execution_count": 11,
   "metadata": {},
   "outputs": [],
   "source": [
    "def game_status(state):\n",
    "    \n",
    "    # check if someone has won\n",
    "    possible_winning_comb = np.zeros((8, 3))\n",
    "    possible_winning_comb[:3,:] = state\n",
    "    possible_winning_comb[3:6,:] = state.T\n",
    "    possible_winning_comb[6,:] = state.diagonal()\n",
    "    possible_winning_comb[7,:] = np.fliplr(state).diagonal()\n",
    "    \n",
    "    for row in possible_winning_comb:\n",
    "        if np.all(row == KEY_P1):\n",
    "            return KEY_WON_P1\n",
    "        elif np.all(row == KEY_P2):\n",
    "            return KEY_WON_P2\n",
    "\n",
    "    # check if tie\n",
    "    if np.count_nonzero(state==0) == 0:\n",
    "        return KEY_TIE\n",
    "\n",
    "    return KEY_ONGOING"
   ]
  },
  {
   "cell_type": "code",
   "execution_count": 12,
   "metadata": {},
   "outputs": [
    {
     "data": {
      "text/plain": [
       "'ongoing'"
      ]
     },
     "execution_count": 12,
     "metadata": {},
     "output_type": "execute_result"
    }
   ],
   "source": [
    "test_state_3 = np.array([[1,2,1],[1,1,2],[2,1,2]])\n",
    "test_state_4 = np.array([[2., 0., 0.], [0., 1., 0.,], [0., 1., 2.]])\n",
    "game_status(test_state_4)"
   ]
  },
  {
   "cell_type": "code",
   "execution_count": 25,
   "metadata": {},
   "outputs": [
    {
     "name": "stdout",
     "output_type": "stream",
     "text": [
      "game  0\n"
     ]
    },
    {
     "name": "stderr",
     "output_type": "stream",
     "text": [
      "<ipython-input-9-89da29e15b00>:8: RuntimeWarning: All-NaN slice encountered\n",
      "  max_q_values = np.nanmax(next_q_values)\n"
     ]
    },
    {
     "name": "stdout",
     "output_type": "stream",
     "text": [
      "game  5000\n",
      "game  10000\n",
      "game  15000\n",
      "game  20000\n",
      "game  25000\n",
      "game  30000\n",
      "game  35000\n",
      "game  40000\n",
      "game  45000\n",
      "done\n"
     ]
    }
   ],
   "source": [
    "q_table1 = {}     \n",
    "q_table2 = {}\n",
    "\n",
    "results = []\n",
    "\n",
    "epsilon = init_epsilon\n",
    "\n",
    "res_p1 = []\n",
    "res_p2 = []\n",
    "res_tie = []\n",
    "\n",
    "rp1 = 0\n",
    "rp2 = 0\n",
    "rtie = 0\n",
    "\n",
    "no_reward = 0\n",
    "\n",
    "for i in range(n_games):\n",
    "\n",
    "    if i % 250 == 0 and i != 0:\n",
    "        res_p1.append(rp1)\n",
    "        res_p2.append(rp2)\n",
    "        res_tie.append(rtie)\n",
    "        rp1 = 0\n",
    "        rp2 = 0\n",
    "        rtie = 0\n",
    "\n",
    "    if i % 5000 == 0:\n",
    "        print('game ', i)\n",
    "\n",
    "    if i > start_decay:\n",
    "        if i % 50 == 0:\n",
    "            epsilon *= e_decay\n",
    "\n",
    "    # init board\n",
    "    result = None\n",
    "    board = np.zeros([3,3])\n",
    "    last_board1 = np.zeros([3,3])\n",
    "    last_board2 = np.zeros([3,3])\n",
    "\n",
    "    _status = KEY_ONGOING\n",
    "\n",
    "    # player 1 moves\n",
    "    last_board1 = board\n",
    "    board, action1 = update_state(board, q_table1, epsilon, KEY_P1)\n",
    "    \n",
    "    # player 2 moves\n",
    "    last_board2 = board\n",
    "    board, action2 = update_state(board, q_table2, epsilon, KEY_P2)\n",
    "\n",
    "    # update q1\n",
    "    q_table1 = update_q_table(q_table1, action1, last_board1, board, no_reward)\n",
    "\n",
    "    while _status == KEY_ONGOING:\n",
    "        # player 1 move \n",
    "        last_board1 = board\n",
    "        board, action1 = update_state(board, q_table1, epsilon, KEY_P1)\n",
    "\n",
    "        _status = game_status(board)\n",
    "        if _status != KEY_ONGOING:\n",
    "            result = _status\n",
    "            break\n",
    "        else:\n",
    "            # update Q2\n",
    "            q_table2 = update_q_table(q_table2, action2, last_board2, board, no_reward)\n",
    "\n",
    "        # player 2 move \n",
    "        last_board2 = board\n",
    "        board, action2 = update_state(board, q_table2, epsilon, KEY_P2)\n",
    "\n",
    "        _status = game_status(board)\n",
    "        if _status != KEY_ONGOING:\n",
    "            result = _status\n",
    "            break\n",
    "        else:\n",
    "            # update Q1\n",
    "            q_table1 = update_q_table(q_table1, action1, last_board1, board, no_reward)\n",
    "\n",
    "    # update q1 and q2 with corresponding reward\n",
    "    if _status == KEY_WON_P1:\n",
    "        q_table1 = update_q_table(q_table1, action1, last_board1, board, win_reward)\n",
    "        q_table2 = update_q_table(q_table2, action2, last_board2, board, lose_reward)\n",
    "        rp1 += 1\n",
    "    elif _status == KEY_WON_P2:\n",
    "        q_table1 = update_q_table(q_table1, action1, last_board1, board, lose_reward)\n",
    "        q_table2 = update_q_table(q_table2, action2, last_board2, board, win_reward)\n",
    "        rp2 += 1\n",
    "    elif _status == KEY_TIE:       \n",
    "        q_table1 = update_q_table(q_table1, action1, last_board1, board, tie_reward)\n",
    "        q_table2 = update_q_table(q_table2, action2, last_board2, board, tie_reward)\n",
    "        rtie += 1\n",
    "    else:\n",
    "        print('ERROR: unexpected result')\n",
    "\n",
    "    results.append(_status)\n",
    "\n",
    "print('done')"
   ]
  },
  {
   "cell_type": "code",
   "execution_count": 29,
   "metadata": {},
   "outputs": [
    {
     "data": {
      "image/png": "[encoded data removed]",
      "text/plain": [
       "<Figure size 432x288 with 1 Axes>"
      ]
     },
     "metadata": {
      "needs_background": "light"
     },
     "output_type": "display_data"
    }
   ],
   "source": [
    "from matplotlib import pyplot as plt \n",
    "\n",
    "intvl = 250\n",
    "pres_p1 = [x / intvl for x in res_p1]\n",
    "pres_p2 = [x / intvl for x in res_p2]\n",
    "pres_tie = [x / intvl for x in res_tie]\n",
    "\n",
    "plt.plot(range(len(pres_p1)), pres_p1, label='win p1')\n",
    "plt.plot(range(len(pres_p2)), pres_p2, label='win p2')\n",
    "plt.plot(range(len(pres_tie)), pres_tie, label='tie')\n",
    "plt.legend(loc=\"upper left\")\n",
    "plt.xlabel(\"games/250\")\n",
    "plt.ylabel(\"percentage\")\n",
    "plt.title(\"Winning statistics of tictactoe\")\n",
    "plt.savefig('ql_plot.png', format='png', dpi=1200)"
   ]
  },
  {
   "cell_type": "code",
   "execution_count": 27,
   "metadata": {},
   "outputs": [],
   "source": [
    "import re\n",
    "\n",
    "vals1 = np.array(list(q_table1.values()))\n",
    "__q_values1 = np.concatenate(vals1, axis=1)\n",
    "\n",
    "boards1 = []\n",
    "for key in q_table1.keys():\n",
    "    ints1 = np.array([int(s) for s in re.findall(r'\\b\\d+\\b', key)]).reshape([3,3])\n",
    "    boards1.append(ints1)\n",
    "\n",
    "__boards1 = np.concatenate(boards1, axis=1)\n",
    "\n",
    "__final1 = np.concatenate((__boards1, __q_values1), axis=0)\n",
    "np.savetxt(\"player1.csv\", __final1, delimiter=\",\")"
   ]
  },
  {
   "cell_type": "code",
   "execution_count": 28,
   "metadata": {},
   "outputs": [],
   "source": [
    "import re\n",
    "\n",
    "vals2 = np.array(list(q_table2.values()))\n",
    "__q_values2 = np.concatenate(vals2, axis=1)\n",
    "\n",
    "boards2 = []\n",
    "for key in q_table2.keys():\n",
    "    ints2 = np.array([int(s) for s in re.findall(r'\\b\\d+\\b', key)]).reshape([3,3])\n",
    "    boards2.append(ints2)\n",
    "\n",
    "__boards2 = np.concatenate(boards2, axis=1)\n",
    "\n",
    "__final2 = np.concatenate((__boards2, __q_values2), axis=0)\n",
    "np.savetxt(\"player2.csv\", __final2, delimiter=\",\")"
   ]
  }
 ],
 "metadata": {
  "interpreter": {
   "hash": "e7370f93d1d0cde622a1f8e1c04877d8463912d04d973331ad4851f04de6915a"
  },
  "kernelspec": {
   "display_name": "Python 3.8.10 64-bit",
   "name": "python3"
  },
  "language_info": {
   "codemirror_mode": {
    "name": "ipython",
    "version": 3
   },
   "file_extension": ".py",
   "mimetype": "text/x-python",
   "name": "python",
   "nbconvert_exporter": "python",
   "pygments_lexer": "ipython3",
   "version": "3.8.10"
  },
  "orig_nbformat": 4
 },
 "nbformat": 4,
 "nbformat_minor": 2
}
