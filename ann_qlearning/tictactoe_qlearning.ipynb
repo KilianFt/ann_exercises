{
 "cells": [
  {
   "cell_type": "code",
   "execution_count": 1,
   "metadata": {},
   "outputs": [],
   "source": [
    "import numpy as np\n",
    "import copy\n",
    "\n",
    "from numpy.core.numeric import moveaxis"
   ]
  },
  {
   "cell_type": "code",
   "execution_count": 64,
   "metadata": {},
   "outputs": [],
   "source": [
    "KEY_TIE = 'tie'\n",
    "KEY_ONGOING = 'ongoing'\n",
    "KEY_WON_P1 = 'won_p1'\n",
    "KEY_WON_P2 = 'won_p2'\n",
    "KEY_P1 = 1\n",
    "KEY_P2 = 2\n",
    "\n",
    "n_games = 30000\n",
    "\n",
    "alpha = 0.1\n",
    "gamma = 1\n",
    "init_epsilon = 0.05\n",
    "\n",
    "win_reward = 1\n",
    "lose_reward = -1\n",
    "tie_reward = 0"
   ]
  },
  {
   "cell_type": "code",
   "execution_count": 3,
   "metadata": {},
   "outputs": [],
   "source": [
    "def get_board_string(board):\n",
    "    return str(copy.copy(board).reshape(9))"
   ]
  },
  {
   "cell_type": "code",
   "execution_count": 4,
   "metadata": {},
   "outputs": [],
   "source": [
    "def get_q_values(_q_table, state, set_nan=True):\n",
    "\n",
    "    next_board_string = get_board_string(state)\n",
    "\n",
    "    if _q_table.get(next_board_string) is None:\n",
    "        q_values = np.zeros([3,3]) \n",
    "\n",
    "        if set_nan:\n",
    "            it = np.nditer(state, flags=['multi_index'])\n",
    "            for x in it:\n",
    "                if x != 0:\n",
    "                    q_values[it.multi_index] = np.nan\n",
    "    else:\n",
    "        q_values = _q_table.get(next_board_string)\n",
    "\n",
    "    return q_values"
   ]
  },
  {
   "cell_type": "code",
   "execution_count": 5,
   "metadata": {},
   "outputs": [
    {
     "data": {
      "text/plain": [
       "array([[nan, nan, nan],\n",
       "       [nan, nan, nan],\n",
       "       [ 0., nan, nan]])"
      ]
     },
     "execution_count": 5,
     "metadata": {},
     "output_type": "execute_result"
    }
   ],
   "source": [
    "test_state_1 = np.array([[1,2,0],[0,0,2],[0,0,1]])\n",
    "test_state_2 = np.array([[1,2,2],[1,1,2],[0,1,1]])\n",
    "\n",
    "test_q_table = {'states': [test_state_1],\n",
    "            'q_values' :[np.array([[np.nan,np.nan,1],[1,1,2],[0,2,2]])]}\n",
    "\n",
    "\n",
    "get_q_values(test_q_table, test_state_2)"
   ]
  },
  {
   "cell_type": "code",
   "execution_count": 20,
   "metadata": {},
   "outputs": [],
   "source": [
    "def update_state(state, _q_table, epsilon, player_id):\n",
    "\n",
    "    q_values = get_q_values(_q_table, state)\n",
    "    \n",
    "    r = np.random.rand()\n",
    "    \n",
    "    if np.all(np.isnan(q_values)) and not np.count_nonzero(state==0) == 0:\n",
    "        print('ERROR: q values all zero but still a free spot')\n",
    "        print(_q_table)\n",
    "\n",
    "    if np.all(np.isnan(q_values)):\n",
    "        return state\n",
    "\n",
    "    if r < (1-epsilon):\n",
    "        # find max of q table\n",
    "        action_idxs = np.where(q_values == np.nanmax(q_values))\n",
    "        ran_a_idx = np.random.randint(len(action_idxs[0]))\n",
    "        action_idx = (action_idxs[0][ran_a_idx], action_idxs[1][ran_a_idx])\n",
    "    else:\n",
    "        non_nan_idxs = np.argwhere(~np.isnan(q_values))\n",
    "        r_idx = np.random.randint(non_nan_idxs.shape[0])\n",
    "        action_idx = non_nan_idxs[r_idx,:]\n",
    "\n",
    "    new_state = copy.copy(state)\n",
    "    new_state[action_idx[0], action_idx[1]] = player_id\n",
    "\n",
    "    return new_state, action_idx"
   ]
  },
  {
   "cell_type": "code",
   "execution_count": 13,
   "metadata": {},
   "outputs": [
    {
     "data": {
      "text/plain": [
       "array([[1, 2, 2],\n",
       "       [1, 1, 2],\n",
       "       [1, 1, 1]])"
      ]
     },
     "execution_count": 13,
     "metadata": {},
     "output_type": "execute_result"
    }
   ],
   "source": [
    "test_state_2 = np.array([[1,2,2],[1,1,2],[0,1,1]])\n",
    "\n",
    "update_state(test_state_2, test_q_table, 1, 1)"
   ]
  },
  {
   "cell_type": "code",
   "execution_count": 59,
   "metadata": {},
   "outputs": [],
   "source": [
    "def update_q_table(q_table, action_idx, current_board, next_board, reward):\n",
    "\n",
    "    board_string = get_board_string(current_board)\n",
    "    q_table[board_string] = get_q_values(q_table, current_board)\n",
    "    next_q_values = get_q_values(q_table, next_board)\n",
    "\n",
    "    max_q_values = np.nanmax(next_q_values)\n",
    "    if np.isnan(max_q_values):\n",
    "        max_q_values = 0\n",
    "\n",
    "    q_table[board_string][action_idx] += alpha*(reward + gamma * max_q_values - q_table[board_string][action_idx])\n",
    "\n",
    "    return q_table"
   ]
  },
  {
   "cell_type": "code",
   "execution_count": 39,
   "metadata": {},
   "outputs": [
    {
     "data": {
      "text/plain": [
       "'[1 2 2 1 0 0 1 0 0]'"
      ]
     },
     "execution_count": 39,
     "metadata": {},
     "output_type": "execute_result"
    }
   ],
   "source": [
    "get_board_string(next_board)"
   ]
  },
  {
   "cell_type": "code",
   "execution_count": 60,
   "metadata": {},
   "outputs": [
    {
     "data": {
      "text/plain": [
       "{'[1 2 2 1 0 0 1 0 0]': [[nan, nan, nan], [nan, 1, 1.0], [nan, 1, 1]],\n",
       " '[1 0 2 1 0 0 0 0 0]': array([[ nan, 0.  ,  nan],\n",
       "        [ nan, 0.38, 0.  ],\n",
       "        [0.  , 0.  , 0.  ]])}"
      ]
     },
     "execution_count": 60,
     "metadata": {},
     "output_type": "execute_result"
    }
   ],
   "source": [
    "test_q_table = {'[1 2 2 1 0 0 1 0 0]': [[np.nan,  np.nan, np.nan],\n",
    "        [np.nan, 1,  1.],\n",
    "        [np.nan, 1, 1]],\n",
    "        '[1 0 2 1 0 0 0 0 0]': np.array([[np.nan, 0. , np.nan],\n",
    "        [np.nan, 0.2, 0. ],\n",
    "        [0. , 0. , 0. ]])}\n",
    "\n",
    "current_board = np.array([[1,0,2],[1, 0, 0],[0,0,0]])\n",
    "next_board = np.array([[1,2,2],[1, 0, 0],[1,0,0]])\n",
    "\n",
    "update_q_table(test_q_table, (1,1), current_board, next_board, 1)\n"
   ]
  },
  {
   "cell_type": "code",
   "execution_count": 17,
   "metadata": {},
   "outputs": [],
   "source": [
    "def game_status(state):\n",
    "    \n",
    "    # check if someone has won\n",
    "    possible_winning_comb = np.zeros((8, 3))\n",
    "    possible_winning_comb[:3,:] = state\n",
    "    possible_winning_comb[3:6,:] = state.T\n",
    "    possible_winning_comb[6,:] = state.diagonal()\n",
    "    possible_winning_comb[7,:] = np.fliplr(state).diagonal()\n",
    "    \n",
    "    for row in possible_winning_comb:\n",
    "        if np.all(row == KEY_P1):\n",
    "            return KEY_WON_P1\n",
    "        elif np.all(row == KEY_P2):\n",
    "            return KEY_WON_P2\n",
    "\n",
    "    # check if tie\n",
    "    if np.count_nonzero(state==0) == 0:\n",
    "        return KEY_TIE\n",
    "\n",
    "    return KEY_ONGOING"
   ]
  },
  {
   "cell_type": "code",
   "execution_count": 18,
   "metadata": {},
   "outputs": [
    {
     "data": {
      "text/plain": [
       "'won_p2'"
      ]
     },
     "execution_count": 18,
     "metadata": {},
     "output_type": "execute_result"
    }
   ],
   "source": [
    "test_state_3 = np.array([[1,2,2],[1,2,2],[0,2,1]])\n",
    "game_status(test_state_3)"
   ]
  },
  {
   "cell_type": "code",
   "execution_count": 65,
   "metadata": {},
   "outputs": [
    {
     "name": "stdout",
     "output_type": "stream",
     "text": [
      "game  0\n"
     ]
    },
    {
     "name": "stderr",
     "output_type": "stream",
     "text": [
      "ipykernel_launcher:7: RuntimeWarning: All-NaN slice encountered\n"
     ]
    },
    {
     "name": "stdout",
     "output_type": "stream",
     "text": [
      "game  500\n",
      "game  1000\n",
      "game  1500\n",
      "game  2000\n",
      "game  2500\n",
      "game  3000\n",
      "game  3500\n",
      "game  4000\n",
      "game  4500\n",
      "game  5000\n",
      "game  5500\n",
      "game  6000\n",
      "game  6500\n",
      "game  7000\n",
      "game  7500\n",
      "game  8000\n",
      "game  8500\n",
      "game  9000\n",
      "game  9500\n",
      "game  10000\n",
      "game  10500\n",
      "game  11000\n",
      "game  11500\n",
      "game  12000\n",
      "game  12500\n",
      "game  13000\n",
      "game  13500\n",
      "game  14000\n",
      "game  14500\n",
      "game  15000\n",
      "game  15500\n",
      "game  16000\n",
      "game  16500\n",
      "game  17000\n",
      "game  17500\n",
      "game  18000\n",
      "game  18500\n",
      "game  19000\n",
      "game  19500\n",
      "game  20000\n",
      "game  20500\n",
      "game  21000\n",
      "game  21500\n",
      "game  22000\n",
      "game  22500\n",
      "game  23000\n",
      "game  23500\n",
      "game  24000\n",
      "game  24500\n",
      "game  25000\n",
      "game  25500\n",
      "game  26000\n",
      "game  26500\n",
      "game  27000\n",
      "game  27500\n",
      "game  28000\n",
      "game  28500\n",
      "game  29000\n",
      "game  29500\n",
      "done\n"
     ]
    }
   ],
   "source": [
    "q_table1 = {}     \n",
    "q_table2 = {}\n",
    "\n",
    "results = []\n",
    "\n",
    "epsilon = init_epsilon\n",
    "# e_decay = epsilon/n_games\n",
    "e_decay = 0\n",
    "\n",
    "res_log_interval = 100\n",
    "res_p1 = []\n",
    "res_p2 = []\n",
    "res_tie = []\n",
    "\n",
    "rp1 = 0\n",
    "rp2 = 0\n",
    "rtie = 0\n",
    "\n",
    "no_reward = 0\n",
    "\n",
    "for i in range(n_games):\n",
    "\n",
    "    if i % 100 == 0:\n",
    "        res_p1.append(rp1)\n",
    "        res_p2.append(rp2)\n",
    "        res_tie.append(rtie)\n",
    "        rp1 = 0\n",
    "        rp2 = 0\n",
    "        rtie = 0\n",
    "\n",
    "    if i % 500 == 0:\n",
    "        print('game ', i)\n",
    "\n",
    "    if epsilon > 0:\n",
    "        epsilon -= e_decay\n",
    "    else:\n",
    "        epsilon = 0\n",
    "\n",
    "    # init board\n",
    "    result = None\n",
    "    board = np.zeros([3,3])\n",
    "    last_board1 = np.zeros([3,3])\n",
    "    last_board2 = np.zeros([3,3])\n",
    "\n",
    "    _status = KEY_ONGOING\n",
    "\n",
    "    # player 1 moves\n",
    "    last_board1 = board\n",
    "    board, action1 = update_state(board, q_table1, epsilon, KEY_P1)\n",
    "    \n",
    "    # player 2 moves\n",
    "    last_board2 = board\n",
    "    board, action2 = update_state(board, q_table2, epsilon, KEY_P2)\n",
    "\n",
    "    # update q1\n",
    "    q_table1 = update_q_table(q_table1, action1, last_board1, board, no_reward)\n",
    "\n",
    "    while _status == KEY_ONGOING:\n",
    "        # player 1 move \n",
    "        last_board1 = board\n",
    "        board, action1 = update_state(board, q_table1, epsilon, KEY_P1)\n",
    "\n",
    "        _status = game_status(board)\n",
    "        if _status != KEY_ONGOING:\n",
    "            result = _status\n",
    "            break\n",
    "        else:\n",
    "            # update Q2\n",
    "            q_table2 = update_q_table(q_table2, action2, last_board2, board, no_reward)\n",
    "\n",
    "        # player 2 move \n",
    "        last_board2 = board\n",
    "        board, action2 = update_state(board, q_table2, epsilon, KEY_P2)\n",
    "\n",
    "        _status = game_status(board)\n",
    "        if _status != KEY_ONGOING:\n",
    "            result = _status\n",
    "            break\n",
    "        else:\n",
    "            # update Q1\n",
    "            q_table1 = update_q_table(q_table1, action1, last_board1, board, no_reward)\n",
    "\n",
    "    # update q1 and q2 with corresponding reward\n",
    "    if _status == KEY_WON_P1:\n",
    "        q_table1 = update_q_table(q_table1, action1, last_board1, board, win_reward)\n",
    "        q_table2 = update_q_table(q_table2, action2, last_board2, board, lose_reward)\n",
    "        rp1 += 1\n",
    "    elif _status == KEY_WON_P2:\n",
    "        q_table1 = update_q_table(q_table1, action1, last_board1, board, win_reward)\n",
    "        q_table2 = update_q_table(q_table2, action2, last_board2, board, lose_reward)\n",
    "        rp2 += 1\n",
    "    elif _status == KEY_TIE:       \n",
    "        q_table1 = update_q_table(q_table1, action1, last_board1, board, tie_reward)\n",
    "        q_table2 = update_q_table(q_table2, action2, last_board2, board, tie_reward)\n",
    "        rtie += 1\n",
    "    else:\n",
    "        print('ERROR: unexpected result')\n",
    "\n",
    "    results.append(_status)\n",
    "\n",
    "print('done')"
   ]
  },
  {
   "cell_type": "code",
   "execution_count": 66,
   "metadata": {},
   "outputs": [
    {
     "data": {
      "text/plain": [
       "Text(0.5, 1.0, 'Winning statistics of tictactoe')"
      ]
     },
     "execution_count": 66,
     "metadata": {},
     "output_type": "execute_result"
    },
    {
     "data": {
      "image/png": "[encoded data removed]",
      "text/plain": [
       "<Figure size 432x288 with 1 Axes>"
      ]
     },
     "metadata": {
      "needs_background": "light"
     },
     "output_type": "display_data"
    }
   ],
   "source": [
    "from matplotlib import pyplot as plt \n",
    "\n",
    "plt.plot(range(len(res_p1)), res_p1, label='win p1')\n",
    "plt.plot(range(len(res_p2)), res_p2, label='win p2')\n",
    "plt.plot(range(len(res_tie)), res_tie, label='tie')\n",
    "plt.legend(loc=\"upper left\")\n",
    "plt.xlabel(\"games/100\")\n",
    "plt.ylabel(\"n of occurence\")\n",
    "plt.title(\"Winning statistics of tictactoe\")"
   ]
  },
  {
   "cell_type": "code",
   "execution_count": 98,
   "metadata": {},
   "outputs": [
    {
     "data": {
      "text/plain": [
       "array([[0., 0., 0.],\n",
       "       [0., 0., 0.],\n",
       "       [2., 1., 0.]])"
      ]
     },
     "execution_count": 98,
     "metadata": {},
     "output_type": "execute_result"
    }
   ],
   "source": [
    "q_table1['states'][0]"
   ]
  },
  {
   "cell_type": "code",
   "execution_count": 130,
   "metadata": {},
   "outputs": [
    {
     "data": {
      "text/plain": [
       "([array([[0., 2., 1.],\n",
       "         [2., 2., 1.],\n",
       "         [2., 1., 2.]]),\n",
       "  array([[2., 1., 1.],\n",
       "         [2., 2., 1.],\n",
       "         [2., 1., 2.]]),\n",
       "  array([[1., 0., 2.],\n",
       "         [0., 0., 0.],\n",
       "         [0., 0., 0.]]),\n",
       "  array([[1., 0., 2.],\n",
       "         [0., 0., 0.],\n",
       "         [0., 0., 2.]]),\n",
       "  array([[1., 2., 2.],\n",
       "         [0., 0., 0.],\n",
       "         [0., 0., 2.]])],\n",
       " [array([[ 0., nan, nan],\n",
       "         [nan, nan, nan],\n",
       "         [nan, nan, nan]]),\n",
       "  array([[nan, nan, nan],\n",
       "         [nan, nan, nan],\n",
       "         [nan, nan, nan]]),\n",
       "  array([[       nan, 0.0026663 ,        nan],\n",
       "         [0.18716615, 0.08290443, 0.00263842],\n",
       "         [0.18276668, 0.01329748, 0.17452111]]),\n",
       "  array([[           nan, 3.43837811e-03,            nan],\n",
       "         [1.46014275e-02, 0.00000000e+00, 2.54792059e-03],\n",
       "         [1.51524377e-02, 3.22490000e-05,            nan]]),\n",
       "  array([[       nan,        nan,        nan],\n",
       "         [6.5341e-04, 0.0000e+00, 6.8590e-05],\n",
       "         [8.5690e-04, 0.0000e+00,        nan]])])"
      ]
     },
     "execution_count": 130,
     "metadata": {},
     "output_type": "execute_result"
    }
   ],
   "source": [
    "q_table1['states'][15:20], q_table1['q_values'][15:20]"
   ]
  },
  {
   "cell_type": "code",
   "execution_count": null,
   "metadata": {},
   "outputs": [],
   "source": [
    "__states1 = np.concatenate(q_table1['states'], axis=1)\n",
    "__q_values1 = np.concatenate(q_table1['q_values'], axis=1)\n",
    "__final1 = np.concatenate((__states1, __q_values1), axis=0)\n",
    "np.savetxt(\"player1.csv\", __final1, delimiter=\",\")\n",
    "\n",
    "__states2 = np.concatenate(q_table2['states'], axis=1)\n",
    "__q_values2 = np.concatenate(q_table2['q_values'], axis=1)\n",
    "__final2 = np.concatenate((__states2, __q_values2), axis=0)\n",
    "np.savetxt(\"player2.csv\", __final2, delimiter=\",\")"
   ]
  },
  {
   "cell_type": "code",
   "execution_count": null,
   "metadata": {},
   "outputs": [],
   "source": [
    "%store results_count\n",
    "results_count"
   ]
  },
  {
   "cell_type": "code",
   "execution_count": null,
   "metadata": {},
   "outputs": [
    {
     "name": "stdout",
     "output_type": "stream",
     "text": [
      "Stored 'results' (dict)\n"
     ]
    },
    {
     "data": {
      "text/plain": [
       "{'won_p1': 2344, 'won_p2': 2324, 'tie': 300}"
      ]
     },
     "execution_count": 129,
     "metadata": {},
     "output_type": "execute_result"
    }
   ],
   "source": [
    "%store results\n",
    "results"
   ]
  }
 ],
 "metadata": {
  "interpreter": {
   "hash": "31f2aee4e71d21fbe5cf8b01ff0e069b9275f58929596ceb00d14d90e3e16cd6"
  },
  "kernelspec": {
   "display_name": "Python 3.6.9 64-bit",
   "name": "python3"
  },
  "language_info": {
   "codemirror_mode": {
    "name": "ipython",
    "version": 3
   },
   "file_extension": ".py",
   "mimetype": "text/x-python",
   "name": "python",
   "nbconvert_exporter": "python",
   "pygments_lexer": "ipython3",
   "version": "3.6.9"
  },
  "orig_nbformat": 4
 },
 "nbformat": 4,
 "nbformat_minor": 2
}
