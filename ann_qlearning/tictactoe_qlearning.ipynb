{
 "cells": [
  {
   "cell_type": "code",
   "execution_count": 1,
   "metadata": {},
   "outputs": [],
   "source": [
    "import numpy as np\n",
    "import copy\n",
    "\n",
    "from numpy.core.numeric import moveaxis"
   ]
  },
  {
   "cell_type": "code",
   "execution_count": 127,
   "metadata": {},
   "outputs": [],
   "source": [
    "KEY_TIE = 'tie'\n",
    "KEY_ONGOING = 'ongoing'\n",
    "KEY_WON_P1 = 'won_p1'\n",
    "KEY_WON_P2 = 'won_p2'\n",
    "KEY_P1 = 1\n",
    "KEY_P2 = 2\n",
    "\n",
    "n_games = 5000#30000\n",
    "\n",
    "alpha = 0.1\n",
    "gamma = 1\n",
    "epsilon = .8\n",
    "e_decay = epsilon/n_games\n",
    "\n",
    "win_reward = 1\n",
    "lose_reward = -1\n",
    "tie_reward = 0"
   ]
  },
  {
   "cell_type": "code",
   "execution_count": null,
   "metadata": {},
   "outputs": [],
   "source": [
    ".2 = n_games*e_decay"
   ]
  },
  {
   "cell_type": "code",
   "execution_count": 125,
   "metadata": {},
   "outputs": [
    {
     "data": {
      "text/plain": [
       "0.07320646825464584"
      ]
     },
     "execution_count": 125,
     "metadata": {},
     "output_type": "execute_result"
    }
   ],
   "source": [
    "epsilon * pow(0.99,100.)\n"
   ]
  },
  {
   "cell_type": "code",
   "execution_count": 5,
   "metadata": {},
   "outputs": [],
   "source": [
    "def get_q_values(_q_table, state):\n",
    "\n",
    "    state_idx = [i for (i, val) in enumerate(_q_table['states']) if (val==state).all()]\n",
    "\n",
    "    if len(state_idx) == 1:\n",
    "        q_values = copy.copy(_q_table['q_values'][state_idx[0]])\n",
    "    elif len(state_idx) == 0:\n",
    "        q_values = np.zeros([3,3]) \n",
    "        it = np.nditer(state, flags=['multi_index'])\n",
    "        for x in it:\n",
    "            if x != 0:\n",
    "                q_values[it.multi_index] = np.nan\n",
    "    else:\n",
    "        print('ERROR: state index in get_q_value has unexpeted length of ', len(state_idx))\n",
    "\n",
    "    return q_values"
   ]
  },
  {
   "cell_type": "code",
   "execution_count": 41,
   "metadata": {},
   "outputs": [
    {
     "data": {
      "text/plain": [
       "array([[nan, nan, nan],\n",
       "       [nan, nan, nan],\n",
       "       [ 0., nan, nan]])"
      ]
     },
     "execution_count": 41,
     "metadata": {},
     "output_type": "execute_result"
    }
   ],
   "source": [
    "test_state_1 = np.array([[1,2,0],[0,0,2],[0,0,1]])\n",
    "test_state_2 = np.array([[1,2,2],[1,1,2],[0,1,1]])\n",
    "\n",
    "test_q_table = {'states': [test_state_1],\n",
    "            'q_values' :[np.array([[np.nan,np.nan,1],[1,1,2],[0,2,2]])]}\n",
    "\n",
    "\n",
    "get_q_values(test_q_table, test_state_2)"
   ]
  },
  {
   "cell_type": "code",
   "execution_count": 9,
   "metadata": {},
   "outputs": [],
   "source": [
    "def update_state(state, _q_table, epsilon, player_id):\n",
    "\n",
    "    q_values = get_q_values(_q_table, state)\n",
    "    \n",
    "    r = np.random.rand()\n",
    "    \n",
    "    if np.all(np.isnan(q_values)) and not np.count_nonzero(state==0) == 0:\n",
    "        print('ERROR: q values all zero but still a free spot')\n",
    "        print(_q_table)\n",
    "\n",
    "    if np.all(np.isnan(q_values)):\n",
    "        return state\n",
    "\n",
    "    if r < (1-epsilon):\n",
    "        # find max of q table\n",
    "        action_idx = np.unravel_index(np.argmax(q_values, axis=None), q_values.shape)\n",
    "    else:\n",
    "        non_nan_idxs = np.argwhere(~np.isnan(q_values))\n",
    "        r_idx = np.random.randint(non_nan_idxs.shape[0])\n",
    "        action_idx = non_nan_idxs[r_idx,:]\n",
    "\n",
    "    new_state = copy.copy(state)\n",
    "    new_state[action_idx[0], action_idx[1]] = player_id\n",
    "\n",
    "    return new_state"
   ]
  },
  {
   "cell_type": "code",
   "execution_count": 10,
   "metadata": {},
   "outputs": [
    {
     "data": {
      "text/plain": [
       "array([[1, 2, 2],\n",
       "       [1, 1, 2],\n",
       "       [1, 1, 1]])"
      ]
     },
     "execution_count": 10,
     "metadata": {},
     "output_type": "execute_result"
    }
   ],
   "source": [
    "test_state_2 = np.array([[1,2,2],[1,1,2],[0,1,1]])\n",
    "\n",
    "update_state(test_state_2, test_q_table, epsilon, 1)"
   ]
  },
  {
   "cell_type": "code",
   "execution_count": 80,
   "metadata": {},
   "outputs": [],
   "source": [
    "def update_q_table(_q_table, state, reward, player_id):\n",
    "\n",
    "    current_q_values = get_q_values(_q_table, state)\n",
    "    it = np.nditer(state, flags=['multi_index'])\n",
    "    for x in it:\n",
    "\n",
    "        if x == 0:\n",
    "            next_state = copy.copy(state)\n",
    "            next_state[it.multi_index] = player_id\n",
    "\n",
    "            next_q_values = get_q_values(_q_table, next_state)\n",
    "\n",
    "            max_q_values = np.nanmax(next_q_values)\n",
    "            if np.isnan(max_q_values):\n",
    "                max_q_values = 0\n",
    "\n",
    "            current_q_values[it.multi_index] += alpha*(reward + gamma * max_q_values - current_q_values[it.multi_index])\n",
    "        else:\n",
    "            current_q_values[it.multi_index] = np.nan\n",
    "\n",
    "    state_idx = [i for (i, val) in enumerate(_q_table['states']) if (val==state).all()]\n",
    "    if len(state_idx) == 1:\n",
    "        _q_table['q_values'][state_idx[0]] = current_q_values\n",
    "    elif len(state_idx) == 0:\n",
    "        _q_table['states'].append(state)\n",
    "        _q_table['q_values'].append(current_q_values)\n",
    "    else:\n",
    "        print('ERROR: wrong length of state idx')\n",
    "    return _q_table"
   ]
  },
  {
   "cell_type": "code",
   "execution_count": 63,
   "metadata": {},
   "outputs": [],
   "source": [
    "test_q_table = {'states': [test_state_1],\n",
    "            'q_values' :[np.array([[np.nan,np.nan,1],[1,1,2],[0,2,2]])]}"
   ]
  },
  {
   "cell_type": "code",
   "execution_count": 71,
   "metadata": {},
   "outputs": [
    {
     "name": "stdout",
     "output_type": "stream",
     "text": [
      "[[    nan     nan     nan]\n",
      " [    nan     nan     nan]\n",
      " [0.40951     nan     nan]]\n"
     ]
    },
    {
     "name": "stderr",
     "output_type": "stream",
     "text": [
      "<ipython-input-70-84bc362419ad>:14: RuntimeWarning: All-NaN slice encountered\n",
      "  max_q_values = np.nanmax(next_q_values)\n"
     ]
    },
    {
     "data": {
      "text/plain": [
       "{'states': [array([[1, 2, 0],\n",
       "         [0, 0, 2],\n",
       "         [0, 0, 1]]),\n",
       "  array([[1, 2, 2],\n",
       "         [1, 1, 2],\n",
       "         [0, 1, 1]])],\n",
       " 'q_values': [array([[nan, nan,  1.],\n",
       "         [ 1.,  1.,  2.],\n",
       "         [ 0.,  2.,  2.]]),\n",
       "  array([[     nan,      nan,      nan],\n",
       "         [     nan,      nan,      nan],\n",
       "         [0.468559,      nan,      nan]])]}"
      ]
     },
     "execution_count": 71,
     "metadata": {},
     "output_type": "execute_result"
    }
   ],
   "source": [
    "update_q_table(test_q_table, test_state_2, 1, 2)"
   ]
  },
  {
   "cell_type": "code",
   "execution_count": 75,
   "metadata": {},
   "outputs": [],
   "source": [
    "def game_status(state):\n",
    "    \n",
    "    # check if someone has won\n",
    "    possible_winning_comb = np.zeros((8, 3))\n",
    "    possible_winning_comb[:3,:] = state\n",
    "    possible_winning_comb[3:6,:] = state.T\n",
    "    possible_winning_comb[6,:] = state.diagonal()\n",
    "    possible_winning_comb[7,:] = np.fliplr(state).diagonal()\n",
    "    \n",
    "    for row in possible_winning_comb:\n",
    "        if np.all(row == KEY_P1):\n",
    "            return KEY_WON_P1\n",
    "        elif np.all(row == KEY_P2):\n",
    "            return KEY_WON_P2\n",
    "\n",
    "    # check if tie\n",
    "    if np.count_nonzero(state==0) == 0:\n",
    "        return KEY_TIE\n",
    "\n",
    "    return KEY_ONGOING"
   ]
  },
  {
   "cell_type": "code",
   "execution_count": 78,
   "metadata": {},
   "outputs": [
    {
     "data": {
      "text/plain": [
       "'won_p2'"
      ]
     },
     "execution_count": 78,
     "metadata": {},
     "output_type": "execute_result"
    }
   ],
   "source": [
    "test_state_3 = np.array([[1,2,2],[1,2,2],[0,2,1]])\n",
    "game_status(test_state_3)"
   ]
  },
  {
   "cell_type": "code",
   "execution_count": 132,
   "metadata": {},
   "outputs": [
    {
     "name": "stdout",
     "output_type": "stream",
     "text": [
      "game  0\n"
     ]
    },
    {
     "name": "stderr",
     "output_type": "stream",
     "text": [
      "<ipython-input-80-70cc5bdde49a>:13: RuntimeWarning: All-NaN slice encountered\n",
      "  max_q_values = np.nanmax(next_q_values)\n"
     ]
    },
    {
     "ename": "KeyboardInterrupt",
     "evalue": "",
     "output_type": "error",
     "traceback": [
      "\u001b[0;31m---------------------------------------------------------------------------\u001b[0m",
      "\u001b[0;31mKeyboardInterrupt\u001b[0m                         Traceback (most recent call last)",
      "\u001b[0;32m<ipython-input-132-ac4b4c49216c>\u001b[0m in \u001b[0;36m<module>\u001b[0;34m\u001b[0m\n\u001b[1;32m     59\u001b[0m         \u001b[0;32melse\u001b[0m\u001b[0;34m:\u001b[0m\u001b[0;34m\u001b[0m\u001b[0;34m\u001b[0m\u001b[0m\n\u001b[1;32m     60\u001b[0m             \u001b[0;31m# update Q1\u001b[0m\u001b[0;34m\u001b[0m\u001b[0;34m\u001b[0m\u001b[0;34m\u001b[0m\u001b[0m\n\u001b[0;32m---> 61\u001b[0;31m             \u001b[0mq_table1\u001b[0m \u001b[0;34m=\u001b[0m \u001b[0mupdate_q_table\u001b[0m\u001b[0;34m(\u001b[0m\u001b[0mq_table1\u001b[0m\u001b[0;34m,\u001b[0m \u001b[0mboard\u001b[0m\u001b[0;34m,\u001b[0m \u001b[0mreward\u001b[0m\u001b[0;34m,\u001b[0m \u001b[0mKEY_P1\u001b[0m\u001b[0;34m)\u001b[0m\u001b[0;34m\u001b[0m\u001b[0;34m\u001b[0m\u001b[0m\n\u001b[0m\u001b[1;32m     62\u001b[0m \u001b[0;34m\u001b[0m\u001b[0m\n\u001b[1;32m     63\u001b[0m     \u001b[0;31m# update q1 and q2 with corresponding reward\u001b[0m\u001b[0;34m\u001b[0m\u001b[0;34m\u001b[0m\u001b[0;34m\u001b[0m\u001b[0m\n",
      "\u001b[0;32m<ipython-input-80-70cc5bdde49a>\u001b[0m in \u001b[0;36mupdate_q_table\u001b[0;34m(_q_table, state, reward, player_id)\u001b[0m\n\u001b[1;32m      9\u001b[0m             \u001b[0mnext_state\u001b[0m\u001b[0;34m[\u001b[0m\u001b[0mit\u001b[0m\u001b[0;34m.\u001b[0m\u001b[0mmulti_index\u001b[0m\u001b[0;34m]\u001b[0m \u001b[0;34m=\u001b[0m \u001b[0mplayer_id\u001b[0m\u001b[0;34m\u001b[0m\u001b[0;34m\u001b[0m\u001b[0m\n\u001b[1;32m     10\u001b[0m \u001b[0;34m\u001b[0m\u001b[0m\n\u001b[0;32m---> 11\u001b[0;31m             \u001b[0mnext_q_values\u001b[0m \u001b[0;34m=\u001b[0m \u001b[0mget_q_values\u001b[0m\u001b[0;34m(\u001b[0m\u001b[0m_q_table\u001b[0m\u001b[0;34m,\u001b[0m \u001b[0mnext_state\u001b[0m\u001b[0;34m)\u001b[0m\u001b[0;34m\u001b[0m\u001b[0;34m\u001b[0m\u001b[0m\n\u001b[0m\u001b[1;32m     12\u001b[0m \u001b[0;34m\u001b[0m\u001b[0m\n\u001b[1;32m     13\u001b[0m             \u001b[0mmax_q_values\u001b[0m \u001b[0;34m=\u001b[0m \u001b[0mnp\u001b[0m\u001b[0;34m.\u001b[0m\u001b[0mnanmax\u001b[0m\u001b[0;34m(\u001b[0m\u001b[0mnext_q_values\u001b[0m\u001b[0;34m)\u001b[0m\u001b[0;34m\u001b[0m\u001b[0;34m\u001b[0m\u001b[0m\n",
      "\u001b[0;31mKeyboardInterrupt\u001b[0m: "
     ]
    }
   ],
   "source": [
    "q_table1 = {'states': [],\n",
    "            'q_values' :[]}\n",
    "            \n",
    "q_table2 = {'states': [],\n",
    "            'q_values' :[]}\n",
    "\n",
    "results_count = {'won_p1': 0,\n",
    "            'won_p2': 0,\n",
    "            'tie': 0,}\n",
    "\n",
    "results = []\n",
    "\n",
    "for i in range(n_games):\n",
    "\n",
    "    if i % 500 == 0:\n",
    "        print('game ', i)\n",
    "\n",
    "    if epsilon > 0:\n",
    "        epsilon -= e_decay\n",
    "    else:\n",
    "        epsilon = 0\n",
    "\n",
    "    # init board\n",
    "    result = None\n",
    "    reward = 0\n",
    "    board = np.zeros([3,3])\n",
    "\n",
    "    # player 1 moves\n",
    "    q_table1 = update_q_table(q_table1, board, reward, KEY_P1)\n",
    "    board = update_state(board, q_table1, epsilon, KEY_P1)\n",
    "    \n",
    "    # player 2 moves\n",
    "    q_table2 = update_q_table(q_table2, board, reward, KEY_P2)\n",
    "    board = update_state(board, q_table2, epsilon, KEY_P2)\n",
    "\n",
    "    # update q1\n",
    "    q_table1 = update_q_table(q_table1, board, reward, KEY_P1)\n",
    "\n",
    "    while game_status(board) == KEY_ONGOING:\n",
    "        # player 1 move \n",
    "        board = update_state(board, q_table1, epsilon, KEY_P1)\n",
    "\n",
    "        _status = game_status(board)\n",
    "        if _status != KEY_ONGOING:\n",
    "            result = _status\n",
    "            break\n",
    "        else:\n",
    "            # update Q2\n",
    "            q_table2 = update_q_table(q_table2, board, reward, KEY_P2)\n",
    "\n",
    "\n",
    "        # player 2 move \n",
    "        board = update_state(board, q_table2, epsilon, KEY_P2)\n",
    "\n",
    "        _status = game_status(board)\n",
    "        if _status != KEY_ONGOING:\n",
    "            result = _status\n",
    "            break\n",
    "        else:\n",
    "            # update Q1\n",
    "            q_table1 = update_q_table(q_table1, board, reward, KEY_P1)\n",
    "\n",
    "    # update q1 and q2 with corresponding reward\n",
    "    if _status == KEY_WON_P1:\n",
    "        q_table1 = update_q_table(q_table1, board, win_reward, KEY_P1)\n",
    "        q_table2 = update_q_table(q_table2, board, lose_reward, KEY_P2)\n",
    "        results_count['won_p1'] += 1\n",
    "    elif _status == KEY_WON_P2:\n",
    "        q_table1 = update_q_table(q_table1, board, lose_reward, KEY_P1)\n",
    "        q_table2 = update_q_table(q_table2, board, win_reward, KEY_P2)  \n",
    "        results_count['won_p2'] += 1\n",
    "    elif _status == KEY_TIE:       \n",
    "        q_table1 = update_q_table(q_table1, board, tie_reward, KEY_P1)\n",
    "        q_table2 = update_q_table(q_table2, board, tie_reward, KEY_P2)  \n",
    "        results_count['tie'] += 1\n",
    "    else:\n",
    "        print('ERROR: unexpected result')\n",
    "\n",
    "    results.append(_status)\n",
    "\n",
    "print('done')"
   ]
  },
  {
   "cell_type": "code",
   "execution_count": 98,
   "metadata": {},
   "outputs": [
    {
     "data": {
      "text/plain": [
       "array([[0., 0., 0.],\n",
       "       [0., 0., 0.],\n",
       "       [2., 1., 0.]])"
      ]
     },
     "execution_count": 98,
     "metadata": {},
     "output_type": "execute_result"
    }
   ],
   "source": [
    "q_table1['states'][0]"
   ]
  },
  {
   "cell_type": "code",
   "execution_count": 130,
   "metadata": {},
   "outputs": [
    {
     "data": {
      "text/plain": [
       "([array([[0., 2., 1.],\n",
       "         [2., 2., 1.],\n",
       "         [2., 1., 2.]]),\n",
       "  array([[2., 1., 1.],\n",
       "         [2., 2., 1.],\n",
       "         [2., 1., 2.]]),\n",
       "  array([[1., 0., 2.],\n",
       "         [0., 0., 0.],\n",
       "         [0., 0., 0.]]),\n",
       "  array([[1., 0., 2.],\n",
       "         [0., 0., 0.],\n",
       "         [0., 0., 2.]]),\n",
       "  array([[1., 2., 2.],\n",
       "         [0., 0., 0.],\n",
       "         [0., 0., 2.]])],\n",
       " [array([[ 0., nan, nan],\n",
       "         [nan, nan, nan],\n",
       "         [nan, nan, nan]]),\n",
       "  array([[nan, nan, nan],\n",
       "         [nan, nan, nan],\n",
       "         [nan, nan, nan]]),\n",
       "  array([[       nan, 0.0026663 ,        nan],\n",
       "         [0.18716615, 0.08290443, 0.00263842],\n",
       "         [0.18276668, 0.01329748, 0.17452111]]),\n",
       "  array([[           nan, 3.43837811e-03,            nan],\n",
       "         [1.46014275e-02, 0.00000000e+00, 2.54792059e-03],\n",
       "         [1.51524377e-02, 3.22490000e-05,            nan]]),\n",
       "  array([[       nan,        nan,        nan],\n",
       "         [6.5341e-04, 0.0000e+00, 6.8590e-05],\n",
       "         [8.5690e-04, 0.0000e+00,        nan]])])"
      ]
     },
     "execution_count": 130,
     "metadata": {},
     "output_type": "execute_result"
    }
   ],
   "source": [
    "q_table1['states'][15:20], q_table1['q_values'][15:20]"
   ]
  },
  {
   "cell_type": "code",
   "execution_count": null,
   "metadata": {},
   "outputs": [],
   "source": [
    "__states1 = np.concatenate(q_table1['states'], axis=1)\n",
    "__q_values1 = np.concatenate(q_table1['q_values'], axis=1)\n",
    "__final1 = np.concatenate((__states1, __q_values1), axis=0)\n",
    "np.savetxt(\"player1.csv\", __final1, delimiter=\",\")\n",
    "\n",
    "__states2 = np.concatenate(q_table2['states'], axis=1)\n",
    "__q_values2 = np.concatenate(q_table2['q_values'], axis=1)\n",
    "__final2 = np.concatenate((__states2, __q_values2), axis=0)\n",
    "np.savetxt(\"player2.csv\", __final2, delimiter=\",\")"
   ]
  },
  {
   "cell_type": "code",
   "execution_count": null,
   "metadata": {},
   "outputs": [],
   "source": [
    "%store results_count\n",
    "results_count"
   ]
  },
  {
   "cell_type": "code",
   "execution_count": null,
   "metadata": {},
   "outputs": [
    {
     "name": "stdout",
     "output_type": "stream",
     "text": [
      "Stored 'results' (dict)\n"
     ]
    },
    {
     "data": {
      "text/plain": [
       "{'won_p1': 2344, 'won_p2': 2324, 'tie': 300}"
      ]
     },
     "execution_count": 129,
     "metadata": {},
     "output_type": "execute_result"
    }
   ],
   "source": [
    "%store results\n",
    "results"
   ]
  }
 ],
 "metadata": {
  "interpreter": {
   "hash": "e7370f93d1d0cde622a1f8e1c04877d8463912d04d973331ad4851f04de6915a"
  },
  "kernelspec": {
   "display_name": "Python 3.8.10 64-bit",
   "name": "python3"
  },
  "language_info": {
   "codemirror_mode": {
    "name": "ipython",
    "version": 3
   },
   "file_extension": ".py",
   "mimetype": "text/x-python",
   "name": "python",
   "nbconvert_exporter": "python",
   "pygments_lexer": "ipython3",
   "version": "3.8.10"
  },
  "orig_nbformat": 4
 },
 "nbformat": 4,
 "nbformat_minor": 2
}
