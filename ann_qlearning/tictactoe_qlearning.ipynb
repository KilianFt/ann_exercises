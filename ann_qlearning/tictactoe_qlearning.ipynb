{
 "cells": [
  {
   "cell_type": "code",
   "execution_count": 5,
   "metadata": {},
   "outputs": [],
   "source": [
    "import numpy as np\n",
    "import copy\n",
    "\n",
    "from numpy.core.numeric import moveaxis"
   ]
  },
  {
   "cell_type": "code",
   "execution_count": 47,
   "metadata": {},
   "outputs": [],
   "source": [
    "KEY_TIE = 'tie'\n",
    "KEY_ONGOING = 'ongoing'\n",
    "KEY_WON_P1 = 'won_p1'\n",
    "KEY_WON_P2 = 'won_p2'\n",
    "KEY_P1 = 1\n",
    "KEY_P2 = 2\n",
    "\n",
    "n_games = 5000\n",
    "\n",
    "alpha = 0.1\n",
    "gamma = 1\n",
    "init_epsilon = 0.2\n",
    "\n",
    "win_reward = 1.5\n",
    "lose_reward = -1\n",
    "tie_reward = -0.5"
   ]
  },
  {
   "cell_type": "code",
   "execution_count": 7,
   "metadata": {},
   "outputs": [],
   "source": [
    "def get_board_string(board):\n",
    "    return str(copy.copy(board).reshape(9))"
   ]
  },
  {
   "cell_type": "code",
   "execution_count": 36,
   "metadata": {},
   "outputs": [],
   "source": [
    "def get_q_values(_q_table, state, set_nan=True):\n",
    "\n",
    "    next_board_string = get_board_string(state)\n",
    "\n",
    "    if _q_table.get(next_board_string) is None:\n",
    "        q_values = np.zeros([3,3]) \n",
    "\n",
    "        if set_nan:\n",
    "            it = np.nditer(state, flags=['multi_index'])\n",
    "            for x in it:\n",
    "                if x != 0:\n",
    "                    q_values[it.multi_index] = np.nan\n",
    "    else:\n",
    "        q_values = _q_table.get(next_board_string)\n",
    "\n",
    "    return q_values"
   ]
  },
  {
   "cell_type": "code",
   "execution_count": 11,
   "metadata": {},
   "outputs": [
    {
     "data": {
      "text/plain": [
       "array([[nan, nan, nan],\n",
       "       [nan, nan, nan],\n",
       "       [ 0., nan, nan]])"
      ]
     },
     "execution_count": 11,
     "metadata": {},
     "output_type": "execute_result"
    }
   ],
   "source": [
    "test_state_1 = np.array([[1,2,0],[0,0,2],[0,0,1]])\n",
    "test_state_2 = np.array([[1,2,2],[1,1,2],[0,1,1]])\n",
    "\n",
    "test_q_table = {'states': [test_state_1],\n",
    "            'q_values' :[np.array([[np.nan,np.nan,1],[1,1,2],[0,2,2]])]}\n",
    "\n",
    "\n",
    "get_q_values(test_q_table, test_state_2)"
   ]
  },
  {
   "cell_type": "code",
   "execution_count": 12,
   "metadata": {},
   "outputs": [],
   "source": [
    "def update_state(state, _q_table, epsilon, player_id):\n",
    "\n",
    "    q_values = get_q_values(_q_table, state)\n",
    "    \n",
    "    r = np.random.rand()\n",
    "    \n",
    "    if np.all(np.isnan(q_values)) and not np.count_nonzero(state==0) == 0:\n",
    "        print('ERROR: q values all zero but still a free spot')\n",
    "        print(_q_table)\n",
    "\n",
    "    if np.all(np.isnan(q_values)):\n",
    "        return state\n",
    "\n",
    "    if r < (1-epsilon):\n",
    "        # find max of q table\n",
    "        action_idx = np.where(q_values == np.nanmax(q_values))\n",
    "        action_idx = (action_idx[0][0], action_idx[1][0])\n",
    "    else:\n",
    "        non_nan_idxs = np.argwhere(~np.isnan(q_values))\n",
    "        r_idx = np.random.randint(non_nan_idxs.shape[0])\n",
    "        action_idx = non_nan_idxs[r_idx,:]\n",
    "\n",
    "    new_state = copy.copy(state)\n",
    "    new_state[action_idx[0], action_idx[1]] = player_id\n",
    "\n",
    "    return new_state"
   ]
  },
  {
   "cell_type": "code",
   "execution_count": 16,
   "metadata": {},
   "outputs": [
    {
     "data": {
      "text/plain": [
       "array([[1, 2, 2],\n",
       "       [1, 1, 2],\n",
       "       [1, 1, 1]])"
      ]
     },
     "execution_count": 16,
     "metadata": {},
     "output_type": "execute_result"
    }
   ],
   "source": [
    "test_state_2 = np.array([[1,2,2],[1,1,2],[0,1,1]])\n",
    "\n",
    "update_state(test_state_2, test_q_table, 0, 1)"
   ]
  },
  {
   "cell_type": "code",
   "execution_count": 37,
   "metadata": {},
   "outputs": [],
   "source": [
    "def update_q_table(_q_table, state, reward, player_id):\n",
    "\n",
    "    current_q_values = get_q_values(_q_table, state, set_nan=False)\n",
    "    \n",
    "    it = np.nditer(state, flags=['multi_index'])\n",
    "    for x in it:\n",
    "\n",
    "        if x == 0:\n",
    "            next_state = copy.copy(state)\n",
    "            next_state[it.multi_index] = player_id\n",
    "\n",
    "            next_q_values = get_q_values(_q_table, next_state, set_nan=False)\n",
    "\n",
    "            max_q_values = np.nanmax(next_q_values)\n",
    "            if np.isnan(max_q_values):\n",
    "                max_q_values = 0\n",
    "\n",
    "            current_q_values[it.multi_index] += alpha*(reward + gamma * max_q_values - current_q_values[it.multi_index])\n",
    "        else:\n",
    "            current_q_values[it.multi_index] = np.nan\n",
    "\n",
    "    board_string = get_board_string(state)\n",
    "    _q_table[board_string] = current_q_values\n",
    "\n",
    "    return _q_table"
   ]
  },
  {
   "cell_type": "code",
   "execution_count": 20,
   "metadata": {},
   "outputs": [],
   "source": [
    "test_q_table = {'[1. 0. 2. 1. 2. 0. 1. 2. 1.]': [[np.nan,  1., np.nan],\n",
    "        [np.nan, np.nan,  1.],\n",
    "        [np.nan, np.nan, np.nan]]}"
   ]
  },
  {
   "cell_type": "code",
   "execution_count": 21,
   "metadata": {},
   "outputs": [
    {
     "name": "stderr",
     "output_type": "stream",
     "text": [
      "<ipython-input-17-b717912adce3>:14: RuntimeWarning: All-NaN slice encountered\n",
      "  max_q_values = np.nanmax(next_q_values)\n"
     ]
    },
    {
     "data": {
      "text/plain": [
       "{'[1. 0. 2. 1. 2. 0. 1. 2. 1.]': [[nan, 1.0, nan],\n",
       "  [nan, nan, 1.0],\n",
       "  [nan, nan, nan]],\n",
       " '[1 2 2 1 1 2 0 1 1]': array([[nan, nan, nan],\n",
       "        [nan, nan, nan],\n",
       "        [0.1, nan, nan]])}"
      ]
     },
     "execution_count": 21,
     "metadata": {},
     "output_type": "execute_result"
    }
   ],
   "source": [
    "update_q_table(test_q_table, test_state_2, 1, 2)"
   ]
  },
  {
   "cell_type": "code",
   "execution_count": 25,
   "metadata": {},
   "outputs": [],
   "source": [
    "def game_status(state):\n",
    "    \n",
    "    # check if someone has won\n",
    "    possible_winning_comb = np.zeros((8, 3))\n",
    "    possible_winning_comb[:3,:] = state\n",
    "    possible_winning_comb[3:6,:] = state.T\n",
    "    possible_winning_comb[6,:] = state.diagonal()\n",
    "    possible_winning_comb[7,:] = np.fliplr(state).diagonal()\n",
    "    \n",
    "    for row in possible_winning_comb:\n",
    "        if np.all(row == KEY_P1):\n",
    "            return KEY_WON_P1\n",
    "        elif np.all(row == KEY_P2):\n",
    "            return KEY_WON_P2\n",
    "\n",
    "    # check if tie\n",
    "    if np.count_nonzero(state==0) == 0:\n",
    "        return KEY_TIE\n",
    "\n",
    "    return KEY_ONGOING"
   ]
  },
  {
   "cell_type": "code",
   "execution_count": 78,
   "metadata": {},
   "outputs": [
    {
     "data": {
      "text/plain": [
       "'won_p2'"
      ]
     },
     "execution_count": 78,
     "metadata": {},
     "output_type": "execute_result"
    }
   ],
   "source": [
    "test_state_3 = np.array([[1,2,2],[1,2,2],[0,2,1]])\n",
    "game_status(test_state_3)"
   ]
  },
  {
   "cell_type": "code",
   "execution_count": 50,
   "metadata": {},
   "outputs": [
    {
     "name": "stdout",
     "output_type": "stream",
     "text": [
      "game  0\n"
     ]
    },
    {
     "name": "stderr",
     "output_type": "stream",
     "text": [
      "<ipython-input-37-8c25cd72b2c9>:14: RuntimeWarning: All-NaN slice encountered\n",
      "  max_q_values = np.nanmax(next_q_values)\n"
     ]
    },
    {
     "name": "stdout",
     "output_type": "stream",
     "text": [
      "game  500\n",
      "game  1000\n",
      "game  1500\n",
      "game  2000\n",
      "game  2500\n",
      "game  3000\n",
      "game  3500\n",
      "game  4000\n",
      "game  4500\n",
      "done\n"
     ]
    }
   ],
   "source": [
    "q_table1 = {}     \n",
    "q_table2 = {}\n",
    "\n",
    "results = []\n",
    "\n",
    "epsilon = init_epsilon\n",
    "# e_decay = epsilon/n_games\n",
    "e_decay = 0\n",
    "\n",
    "res_log_interval = 100\n",
    "res_p1 = []\n",
    "res_p2 = []\n",
    "res_tie = []\n",
    "\n",
    "rp1 = 0\n",
    "rp2 = 0\n",
    "rtie = 0\n",
    "\n",
    "for i in range(n_games):\n",
    "\n",
    "    if i % 100 == 0:\n",
    "        res_p1.append(rp1)\n",
    "        res_p2.append(rp2)\n",
    "        res_tie.append(rtie)\n",
    "        rp1 = 0\n",
    "        rp2 = 0\n",
    "        rtie = 0\n",
    "\n",
    "    if i % 500 == 0:\n",
    "        print('game ', i)\n",
    "\n",
    "    if epsilon > 0:\n",
    "        epsilon -= e_decay\n",
    "    else:\n",
    "        epsilon = 0\n",
    "\n",
    "    # init board\n",
    "    result = None\n",
    "    reward = 0\n",
    "    board = np.zeros([3,3])\n",
    "    _status = KEY_ONGOING\n",
    "\n",
    "    # player 1 moves\n",
    "    #q_table1 = update_q_table(q_table1, board, reward, KEY_P1)\n",
    "    board, action1 = update_state(board, q_table1, epsilon, KEY_P1)\n",
    "    \n",
    "    # player 2 moves\n",
    "    #q_table2 = update_q_table(q_table2, board, reward, KEY_P2)\n",
    "    board, action2 = update_state(board, q_table2, epsilon, KEY_P2)\n",
    "\n",
    "    # update q1\n",
    "    q_table1 = update_q_table(q_table1, board, reward, KEY_P1)\n",
    "\n",
    "    while _status == KEY_ONGOING:\n",
    "        # player 1 move \n",
    "        board, action1 = update_state(board, q_table1, epsilon, KEY_P1)\n",
    "\n",
    "        _status = game_status(board)\n",
    "        if _status != KEY_ONGOING:\n",
    "            result = _status\n",
    "            break\n",
    "        else:\n",
    "            # update Q2\n",
    "            q_table2 = update_q_table(q_table2, board, reward, KEY_P2)\n",
    "\n",
    "\n",
    "        # player 2 move \n",
    "        board, action2 = update_state(board, q_table2, epsilon, KEY_P2)\n",
    "\n",
    "        _status = game_status(board)\n",
    "        if _status != KEY_ONGOING:\n",
    "            result = _status\n",
    "            break\n",
    "        else:\n",
    "            # update Q1\n",
    "            q_table1 = update_q_table(q_table1, board, reward, KEY_P1)\n",
    "\n",
    "    # update q1 and q2 with corresponding reward\n",
    "    if _status == KEY_WON_P1:\n",
    "        q_table1 = update_q_table(q_table1, board, win_reward, KEY_P1)\n",
    "        q_table2 = update_q_table(q_table2, board, lose_reward, KEY_P2)\n",
    "        rp1 += 1\n",
    "    elif _status == KEY_WON_P2:\n",
    "        q_table1 = update_q_table(q_table1, board, lose_reward, KEY_P1)\n",
    "        q_table2 = update_q_table(q_table2, board, win_reward, KEY_P2)  \n",
    "        rp2 += 1\n",
    "    elif _status == KEY_TIE:       \n",
    "        q_table1 = update_q_table(q_table1, board, tie_reward, KEY_P1)\n",
    "        q_table2 = update_q_table(q_table2, board, tie_reward, KEY_P2)  \n",
    "        rtie += 1\n",
    "    else:\n",
    "        print('ERROR: unexpected result')\n",
    "\n",
    "    results.append(_status)\n",
    "\n",
    "print('done')"
   ]
  },
  {
   "cell_type": "code",
   "execution_count": 51,
   "metadata": {},
   "outputs": [
    {
     "data": {
      "text/plain": [
       "Text(0.5, 1.0, 'Winning statistics of tictactoe')"
      ]
     },
     "execution_count": 51,
     "metadata": {},
     "output_type": "execute_result"
    },
    {
     "data": {
      "image/png": "[encoded data removed]",
      "text/plain": [
       "<Figure size 432x288 with 1 Axes>"
      ]
     },
     "metadata": {
      "needs_background": "light"
     },
     "output_type": "display_data"
    }
   ],
   "source": [
    "from matplotlib import pyplot as plt \n",
    "\n",
    "plt.plot(range(len(res_p1)), res_p1, label='win p1')\n",
    "plt.plot(range(len(res_p2)), res_p2, label='win p2')\n",
    "plt.plot(range(len(res_tie)), res_tie, label='tie')\n",
    "plt.legend(loc=\"upper left\")\n",
    "plt.xlabel(\"games/100\")\n",
    "plt.ylabel(\"n of occurence\")\n",
    "plt.title(\"Winning statistics of tictactoe\")"
   ]
  },
  {
   "cell_type": "code",
   "execution_count": 98,
   "metadata": {},
   "outputs": [
    {
     "data": {
      "text/plain": [
       "array([[0., 0., 0.],\n",
       "       [0., 0., 0.],\n",
       "       [2., 1., 0.]])"
      ]
     },
     "execution_count": 98,
     "metadata": {},
     "output_type": "execute_result"
    }
   ],
   "source": [
    "q_table1['states'][0]"
   ]
  },
  {
   "cell_type": "code",
   "execution_count": 130,
   "metadata": {},
   "outputs": [
    {
     "data": {
      "text/plain": [
       "([array([[0., 2., 1.],\n",
       "         [2., 2., 1.],\n",
       "         [2., 1., 2.]]),\n",
       "  array([[2., 1., 1.],\n",
       "         [2., 2., 1.],\n",
       "         [2., 1., 2.]]),\n",
       "  array([[1., 0., 2.],\n",
       "         [0., 0., 0.],\n",
       "         [0., 0., 0.]]),\n",
       "  array([[1., 0., 2.],\n",
       "         [0., 0., 0.],\n",
       "         [0., 0., 2.]]),\n",
       "  array([[1., 2., 2.],\n",
       "         [0., 0., 0.],\n",
       "         [0., 0., 2.]])],\n",
       " [array([[ 0., nan, nan],\n",
       "         [nan, nan, nan],\n",
       "         [nan, nan, nan]]),\n",
       "  array([[nan, nan, nan],\n",
       "         [nan, nan, nan],\n",
       "         [nan, nan, nan]]),\n",
       "  array([[       nan, 0.0026663 ,        nan],\n",
       "         [0.18716615, 0.08290443, 0.00263842],\n",
       "         [0.18276668, 0.01329748, 0.17452111]]),\n",
       "  array([[           nan, 3.43837811e-03,            nan],\n",
       "         [1.46014275e-02, 0.00000000e+00, 2.54792059e-03],\n",
       "         [1.51524377e-02, 3.22490000e-05,            nan]]),\n",
       "  array([[       nan,        nan,        nan],\n",
       "         [6.5341e-04, 0.0000e+00, 6.8590e-05],\n",
       "         [8.5690e-04, 0.0000e+00,        nan]])])"
      ]
     },
     "execution_count": 130,
     "metadata": {},
     "output_type": "execute_result"
    }
   ],
   "source": [
    "q_table1['states'][15:20], q_table1['q_values'][15:20]"
   ]
  },
  {
   "cell_type": "code",
   "execution_count": null,
   "metadata": {},
   "outputs": [],
   "source": [
    "__states1 = np.concatenate(q_table1['states'], axis=1)\n",
    "__q_values1 = np.concatenate(q_table1['q_values'], axis=1)\n",
    "__final1 = np.concatenate((__states1, __q_values1), axis=0)\n",
    "np.savetxt(\"player1.csv\", __final1, delimiter=\",\")\n",
    "\n",
    "__states2 = np.concatenate(q_table2['states'], axis=1)\n",
    "__q_values2 = np.concatenate(q_table2['q_values'], axis=1)\n",
    "__final2 = np.concatenate((__states2, __q_values2), axis=0)\n",
    "np.savetxt(\"player2.csv\", __final2, delimiter=\",\")"
   ]
  },
  {
   "cell_type": "code",
   "execution_count": null,
   "metadata": {},
   "outputs": [],
   "source": [
    "%store results_count\n",
    "results_count"
   ]
  },
  {
   "cell_type": "code",
   "execution_count": null,
   "metadata": {},
   "outputs": [
    {
     "name": "stdout",
     "output_type": "stream",
     "text": [
      "Stored 'results' (dict)\n"
     ]
    },
    {
     "data": {
      "text/plain": [
       "{'won_p1': 2344, 'won_p2': 2324, 'tie': 300}"
      ]
     },
     "execution_count": 129,
     "metadata": {},
     "output_type": "execute_result"
    }
   ],
   "source": [
    "%store results\n",
    "results"
   ]
  }
 ],
 "metadata": {
  "interpreter": {
   "hash": "e7370f93d1d0cde622a1f8e1c04877d8463912d04d973331ad4851f04de6915a"
  },
  "kernelspec": {
   "display_name": "Python 3.8.10 64-bit",
   "name": "python3"
  },
  "language_info": {
   "codemirror_mode": {
    "name": "ipython",
    "version": 3
   },
   "file_extension": ".py",
   "mimetype": "text/x-python",
   "name": "python",
   "nbconvert_exporter": "python",
   "pygments_lexer": "ipython3",
   "version": "3.8.10"
  },
  "orig_nbformat": 4
 },
 "nbformat": 4,
 "nbformat_minor": 2
}
