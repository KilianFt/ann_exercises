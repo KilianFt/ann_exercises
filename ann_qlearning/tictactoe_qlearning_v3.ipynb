{
 "cells": [
  {
   "cell_type": "code",
   "execution_count": 1,
   "metadata": {},
   "outputs": [],
   "source": [
    "import numpy as np\n",
    "import copy\n",
    "\n",
    "from numpy.core.numeric import moveaxis"
   ]
  },
  {
   "cell_type": "code",
   "execution_count": 2,
   "metadata": {},
   "outputs": [],
   "source": [
    "KEY_TIE = 'tie'\n",
    "KEY_ONGOING = 'ongoing'\n",
    "KEY_WON_P1 = 'won_p1'\n",
    "KEY_WON_P2 = 'won_p2'\n",
    "KEY_P1 = 1\n",
    "KEY_P2 = 2\n",
    "\n",
    "n_games = 50000#30000\n",
    "\n",
    "alpha = 0.1\n",
    "gamma = 1\n",
    "init_epsilon = 0.8\n",
    "\n",
    "win_reward = 1\n",
    "lose_reward = -1\n",
    "tie_reward = 5"
   ]
  },
  {
   "cell_type": "code",
   "execution_count": 3,
   "metadata": {},
   "outputs": [],
   "source": [
    "def get_board_string(board):\n",
    "    return str(copy.copy(board).reshape(9))"
   ]
  },
  {
   "cell_type": "code",
   "execution_count": 4,
   "metadata": {},
   "outputs": [],
   "source": [
    "def update_state(state, _q_table, epsilon, player_id):\n",
    "\n",
    "    next_board_string = get_board_string(state)\n",
    "    q_values = np.zeros([3,3]) if _q_table.get(next_board_string) is None else _q_table.get(next_board_string)\n",
    "    it = np.nditer(state, flags=['multi_index'])\n",
    "    for x in it:\n",
    "        if x != 0:\n",
    "            q_values[it.multi_index] = np.nan\n",
    "\n",
    "    if np.all(np.isnan(q_values)):\n",
    "        return state\n",
    "        \n",
    "    r = np.random.rand()\n",
    "    non_nan_idxs = np.argwhere(~np.isnan(q_values))\n",
    "\n",
    "    if r < (1-epsilon):\n",
    "        # find max of q table\n",
    "        action_idx = np.where(q_values == np.nanmax(q_values))\n",
    "        action_idx = (action_idx[0][0], action_idx[1][0])\n",
    "    else:\n",
    "        r_idx = np.random.randint(non_nan_idxs.shape[0])\n",
    "        action_idx = non_nan_idxs[r_idx,:]\n",
    "\n",
    "    new_state = copy.copy(state)\n",
    "    new_state[action_idx[0], action_idx[1]] = player_id\n",
    "\n",
    "    return new_state, action_idx"
   ]
  },
  {
   "cell_type": "code",
   "execution_count": 5,
   "metadata": {},
   "outputs": [
    {
     "data": {
      "text/plain": [
       "(array([[nan,  2.,  0.],\n",
       "        [ 1.,  0.,  2.],\n",
       "        [ 0.,  0.,  1.]]),\n",
       " array([1, 0]))"
      ]
     },
     "execution_count": 5,
     "metadata": {},
     "output_type": "execute_result"
    }
   ],
   "source": [
    "test_state_1 = np.array([[np.nan,2,0],[0,0,2],[0,0,1]])\n",
    "test_state_2 = np.array([[1,2,2],[1,1,2],[0,1,1]])\n",
    "\n",
    "test_q_table = {'states': [test_state_1],\n",
    "            'q_values' :[np.array([[np.nan,np.nan,1],[1,1,2],[0,2,2]])]}\n",
    "            \n",
    "update_state(test_state_1, test_q_table, 1, 1)"
   ]
  },
  {
   "cell_type": "code",
   "execution_count": 6,
   "metadata": {},
   "outputs": [],
   "source": [
    "def game_status(state):\n",
    "    \n",
    "    # check if someone has won\n",
    "    possible_winning_comb = np.zeros((8, 3))\n",
    "    possible_winning_comb[:3,:] = state\n",
    "    possible_winning_comb[3:6,:] = state.T\n",
    "    possible_winning_comb[6,:] = state.diagonal()\n",
    "    possible_winning_comb[7,:] = np.fliplr(state).diagonal()\n",
    "    \n",
    "    for row in possible_winning_comb:\n",
    "        if np.all(row == KEY_P1):\n",
    "            return KEY_WON_P1\n",
    "        elif np.all(row == KEY_P2):\n",
    "            return KEY_WON_P2\n",
    "\n",
    "    # check if tie\n",
    "    if np.count_nonzero(state==0) == 0:\n",
    "        return KEY_TIE\n",
    "\n",
    "    return KEY_ONGOING"
   ]
  },
  {
   "cell_type": "code",
   "execution_count": 7,
   "metadata": {},
   "outputs": [
    {
     "data": {
      "text/plain": [
       "'won_p2'"
      ]
     },
     "execution_count": 7,
     "metadata": {},
     "output_type": "execute_result"
    }
   ],
   "source": [
    "test_state_3 = np.array([[1,2,2],[1,2,2],[0,2,1]])\n",
    "game_status(test_state_3)"
   ]
  },
  {
   "cell_type": "code",
   "execution_count": 17,
   "metadata": {},
   "outputs": [],
   "source": [
    "def feed_reward(q_table, board_history, reward, alpha, gamma):\n",
    "    board_history.reverse()\n",
    "    next_max = -1.0\n",
    "    for hist in board_history:\n",
    "\n",
    "        q_values = np.zeros([3,3]) if q_table.get(hist[0]) is None else q_table.get(hist[0])\n",
    "        if next_max < 0: # first time\n",
    "            q_values[hist[1]] = reward\n",
    "        else:\n",
    "            q_values[hist[1]] += alpha*(reward + gamma * next_max - q_values[hist[1]])\n",
    "\n",
    "\n",
    "        next_max = np.nanmax(q_values)\n",
    "        \n",
    "        it = np.nditer(hist[2], flags=['multi_index'])\n",
    "        for x in it:\n",
    "            if x != 0:\n",
    "                q_values[it.multi_index] = np.nan\n",
    "\n",
    "        q_table[hist[0]] = q_values\n",
    "\n",
    "    return q_table"
   ]
  },
  {
   "cell_type": "code",
   "execution_count": 18,
   "metadata": {},
   "outputs": [
    {
     "name": "stdout",
     "output_type": "stream",
     "text": [
      "game  0\n",
      "game  2000\n",
      "game  4000\n",
      "game  6000\n",
      "game  8000\n",
      "game  10000\n",
      "game  12000\n",
      "game  14000\n",
      "game  16000\n",
      "game  18000\n",
      "game  20000\n",
      "game  22000\n",
      "game  24000\n",
      "game  26000\n",
      "game  28000\n",
      "game  30000\n",
      "game  32000\n",
      "game  34000\n",
      "game  36000\n",
      "game  38000\n",
      "game  40000\n",
      "game  42000\n",
      "game  44000\n",
      "game  46000\n",
      "game  48000\n",
      "done\n"
     ]
    }
   ],
   "source": [
    "q_table1 = {}     \n",
    "q_table2 = {}\n",
    "\n",
    "results = []\n",
    "\n",
    "epsilon = init_epsilon\n",
    "e_decay = epsilon/n_games\n",
    "\n",
    "res_log_interval = 100\n",
    "res_p1 = []\n",
    "res_p2 = []\n",
    "res_tie = []\n",
    "\n",
    "rp1 = 0\n",
    "rp2 = 0\n",
    "rtie = 0\n",
    "\n",
    "for i in range(n_games):\n",
    "\n",
    "    if i % 100 == 0:\n",
    "        res_p1.append(rp1)\n",
    "        res_p2.append(rp2)\n",
    "        res_tie.append(rtie)\n",
    "        rp1 = 0\n",
    "        rp2 = 0\n",
    "        rtie = 0\n",
    "\n",
    "    if i % 2000 == 0:\n",
    "        print('game ', i)\n",
    "\n",
    "    # init board\n",
    "    board = np.zeros([3,3])\n",
    "    q_val1 = np.zeros([3,3])\n",
    "    q_val2 = np.zeros([3,3])\n",
    "    result = None\n",
    "    board_history1 = []\n",
    "    board_history2 = []\n",
    "\n",
    "    _status = KEY_ONGOING\n",
    "\n",
    "    while _status == KEY_ONGOING:\n",
    "        # player 1 move \n",
    "        board, action1 = update_state(board, q_table1, epsilon, KEY_P1)\n",
    "        str_board = get_board_string(board)\n",
    "        board_history1.append((str_board, action1, board))\n",
    "\n",
    "        _status = game_status(board)\n",
    "        if _status != KEY_ONGOING:\n",
    "            result = _status\n",
    "            break\n",
    "\n",
    "        # player 2 move \n",
    "        board, action2 = update_state(board, q_table2, epsilon, KEY_P2)\n",
    "        str_board = get_board_string(board)\n",
    "        board_history2.append((str_board, action2, board))\n",
    "\n",
    "        _status = game_status(board)\n",
    "        if _status != KEY_ONGOING:\n",
    "            result = _status\n",
    "            break\n",
    "\n",
    "    if _status == KEY_WON_P1:\n",
    "        q_table1 = feed_reward(q_table1, board_history1, win_reward, alpha, gamma)\n",
    "        q_table2 = feed_reward(q_table2, board_history2, lose_reward, alpha, gamma)\n",
    "        rp1 += 1\n",
    "    elif _status == KEY_WON_P2:\n",
    "        q_table1 = feed_reward(q_table1, board_history1, lose_reward, alpha, gamma)\n",
    "        q_table2 = feed_reward(q_table2, board_history2, win_reward, alpha, gamma) \n",
    "        rp2 += 1 \n",
    "    elif _status == KEY_TIE:       \n",
    "        q_table1 = feed_reward(q_table1, board_history1, tie_reward, alpha, gamma)\n",
    "        q_table2 = feed_reward(q_table2, board_history2, tie_reward, alpha, gamma)  \n",
    "        rtie += 1 \n",
    "    else:\n",
    "        print('ERROR: unexpected result')\n",
    "\n",
    "    results.append(result)\n",
    "\n",
    "    if epsilon > 0:\n",
    "        epsilon -= e_decay\n",
    "    else:\n",
    "        epsilon = 0\n",
    "\n",
    "print('done')"
   ]
  },
  {
   "cell_type": "code",
   "execution_count": 152,
   "metadata": {},
   "outputs": [
    {
     "data": {
      "text/plain": [
       "array([ 5569, 33358, 11073])"
      ]
     },
     "execution_count": 152,
     "metadata": {},
     "output_type": "execute_result"
    }
   ],
   "source": [
    "np.unique(results, return_counts=True)"
   ]
  },
  {
   "cell_type": "code",
   "execution_count": 21,
   "metadata": {},
   "outputs": [
    {
     "data": {
      "text/plain": [
       "Text(0.5, 1.0, 'Winning statistics of tictactoe')"
      ]
     },
     "execution_count": 21,
     "metadata": {},
     "output_type": "execute_result"
    },
    {
     "data": {
      "image/png": "[encoded data removed]",
      "text/plain": [
       "<Figure size 432x288 with 1 Axes>"
      ]
     },
     "metadata": {
      "needs_background": "light"
     },
     "output_type": "display_data"
    }
   ],
   "source": [
    "from matplotlib import pyplot as plt \n",
    "\n",
    "plt.plot(range(len(res_p1)), res_p1, label='win p1')\n",
    "plt.plot(range(len(res_p2)), res_p2, label='win p2')\n",
    "plt.plot(range(len(res_tie)), res_tie, label='tie')\n",
    "plt.legend(loc=\"upper left\")\n",
    "plt.xlabel(\"games/100\")\n",
    "plt.ylabel(\"n of occurence\")\n",
    "plt.title(\"Winning statistics of tictactoe\")\n"
   ]
  },
  {
   "cell_type": "code",
   "execution_count": null,
   "metadata": {},
   "outputs": [],
   "source": [
    "__states1 = np.concatenate(q_table1['states'], axis=1)\n",
    "__q_values1 = np.concatenate(q_table1['q_values'], axis=1)\n",
    "__final1 = np.concatenate((__states1, __q_values1), axis=0)\n",
    "np.savetxt(\"player1.csv\", __final1, delimiter=\",\")\n",
    "\n",
    "__states2 = np.concatenate(q_table2['states'], axis=1)\n",
    "__q_values2 = np.concatenate(q_table2['q_values'], axis=1)\n",
    "__final2 = np.concatenate((__states2, __q_values2), axis=0)\n",
    "np.savetxt(\"player2.csv\", __final2, delimiter=\",\")"
   ]
  },
  {
   "cell_type": "code",
   "execution_count": null,
   "metadata": {},
   "outputs": [],
   "source": [
    "%store results_count\n",
    "results_count"
   ]
  },
  {
   "cell_type": "code",
   "execution_count": null,
   "metadata": {},
   "outputs": [
    {
     "name": "stdout",
     "output_type": "stream",
     "text": [
      "Stored 'results' (dict)\n"
     ]
    },
    {
     "data": {
      "text/plain": [
       "{'won_p1': 2344, 'won_p2': 2324, 'tie': 300}"
      ]
     },
     "execution_count": 129,
     "metadata": {},
     "output_type": "execute_result"
    }
   ],
   "source": [
    "%store results\n",
    "results"
   ]
  }
 ],
 "metadata": {
  "interpreter": {
   "hash": "e7370f93d1d0cde622a1f8e1c04877d8463912d04d973331ad4851f04de6915a"
  },
  "kernelspec": {
   "display_name": "Python 3.8.10 64-bit",
   "name": "python3"
  },
  "language_info": {
   "codemirror_mode": {
    "name": "ipython",
    "version": 3
   },
   "file_extension": ".py",
   "mimetype": "text/x-python",
   "name": "python",
   "nbconvert_exporter": "python",
   "pygments_lexer": "ipython3",
   "version": "3.8.10"
  },
  "orig_nbformat": 4
 },
 "nbformat": 4,
 "nbformat_minor": 2
}
